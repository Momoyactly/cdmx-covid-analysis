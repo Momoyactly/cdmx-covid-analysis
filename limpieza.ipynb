{
 "cells": [
  {
   "cell_type": "code",
   "execution_count": 1,
   "metadata": {},
   "outputs": [],
   "source": [
    "import pandas as pd\n",
    "import matplotlib.pyplot as plt\n"
   ]
  },
  {
   "cell_type": "code",
   "execution_count": 2,
   "metadata": {},
   "outputs": [
    {
     "name": "stderr",
     "output_type": "stream",
     "text": [
      "/Users/carlosrafael/anaconda3/envs/PythonData/lib/python3.6/site-packages/IPython/core/interactiveshell.py:3072: DtypeWarning: Columns (5,7) have mixed types.Specify dtype option on import or set low_memory=False.\n",
      "  interactivity=interactivity, compiler=compiler, result=result)\n"
     ]
    },
    {
     "data": {
      "text/html": [
       "<div>\n",
       "<style scoped>\n",
       "    .dataframe tbody tr th:only-of-type {\n",
       "        vertical-align: middle;\n",
       "    }\n",
       "\n",
       "    .dataframe tbody tr th {\n",
       "        vertical-align: top;\n",
       "    }\n",
       "\n",
       "    .dataframe thead th {\n",
       "        text-align: right;\n",
       "    }\n",
       "</style>\n",
       "<table border=\"1\" class=\"dataframe\">\n",
       "  <thead>\n",
       "    <tr style=\"text-align: right;\">\n",
       "      <th></th>\n",
       "      <th>edad</th>\n",
       "      <th>sexo</th>\n",
       "      <th>Date</th>\n",
       "      <th>estado</th>\n",
       "      <th>causa</th>\n",
       "      <th>causa_registro</th>\n",
       "      <th>alcaldia</th>\n",
       "      <th>LugarMuerte</th>\n",
       "      <th>num_consecutivo</th>\n",
       "    </tr>\n",
       "  </thead>\n",
       "  <tbody>\n",
       "    <tr>\n",
       "      <th>0</th>\n",
       "      <td>48.0</td>\n",
       "      <td>Hombre</td>\n",
       "      <td>2021-04-10</td>\n",
       "      <td>CIUDAD DE MEXICO</td>\n",
       "      <td>Otra</td>\n",
       "      <td>CHOQUE SEPTICO, NEUMONIA ATIPICA, SINDROME DE ...</td>\n",
       "      <td>MIGUEL HIDALGO</td>\n",
       "      <td>Hospital</td>\n",
       "      <td>420527</td>\n",
       "    </tr>\n",
       "    <tr>\n",
       "      <th>1</th>\n",
       "      <td>67.0</td>\n",
       "      <td>Hombre</td>\n",
       "      <td>2021-04-10</td>\n",
       "      <td>CIUDAD DE MEXICO</td>\n",
       "      <td>Covid-19 Confirmado o Sospecha</td>\n",
       "      <td>CHOQUE SEPTICO, NEUMONIA ATIPICA POR PROBABLE ...</td>\n",
       "      <td>GUSTAVO A MADERO</td>\n",
       "      <td>Hospital</td>\n",
       "      <td>420526</td>\n",
       "    </tr>\n",
       "    <tr>\n",
       "      <th>2</th>\n",
       "      <td>49.0</td>\n",
       "      <td>Mujer</td>\n",
       "      <td>2021-04-10</td>\n",
       "      <td>CIUDAD DE MEXICO</td>\n",
       "      <td>Otra</td>\n",
       "      <td>INFARTO AGUDO AL MIOCARDIO, TROMBOSIS VENOSA P...</td>\n",
       "      <td>IZTAPALAPA</td>\n",
       "      <td>Domicilio</td>\n",
       "      <td>420525</td>\n",
       "    </tr>\n",
       "    <tr>\n",
       "      <th>3</th>\n",
       "      <td>76.0</td>\n",
       "      <td>Mujer</td>\n",
       "      <td>2021-04-10</td>\n",
       "      <td>CIUDAD DE MEXICO</td>\n",
       "      <td>Otra</td>\n",
       "      <td>COQUE SEPTICO, INFECCION DE VIAS URINARIAS, HI...</td>\n",
       "      <td>GUSTAVO A MADERO</td>\n",
       "      <td>Domicilio</td>\n",
       "      <td>420524</td>\n",
       "    </tr>\n",
       "    <tr>\n",
       "      <th>4</th>\n",
       "      <td>82.0</td>\n",
       "      <td>Mujer</td>\n",
       "      <td>2021-04-10</td>\n",
       "      <td>CIUDAD DE MEXICO</td>\n",
       "      <td>Otra</td>\n",
       "      <td>ACIDOSIS METABOLICA, CHOQUE SEPTICO, INFECCION...</td>\n",
       "      <td>AZCAPOTZALCO</td>\n",
       "      <td>Hospital</td>\n",
       "      <td>420523</td>\n",
       "    </tr>\n",
       "  </tbody>\n",
       "</table>\n",
       "</div>"
      ],
      "text/plain": [
       "   edad    sexo       Date            estado                           causa  \\\n",
       "0  48.0  Hombre 2021-04-10  CIUDAD DE MEXICO                            Otra   \n",
       "1  67.0  Hombre 2021-04-10  CIUDAD DE MEXICO  Covid-19 Confirmado o Sospecha   \n",
       "2  49.0   Mujer 2021-04-10  CIUDAD DE MEXICO                            Otra   \n",
       "3  76.0   Mujer 2021-04-10  CIUDAD DE MEXICO                            Otra   \n",
       "4  82.0   Mujer 2021-04-10  CIUDAD DE MEXICO                            Otra   \n",
       "\n",
       "                                      causa_registro          alcaldia  \\\n",
       "0  CHOQUE SEPTICO, NEUMONIA ATIPICA, SINDROME DE ...    MIGUEL HIDALGO   \n",
       "1  CHOQUE SEPTICO, NEUMONIA ATIPICA POR PROBABLE ...  GUSTAVO A MADERO   \n",
       "2  INFARTO AGUDO AL MIOCARDIO, TROMBOSIS VENOSA P...        IZTAPALAPA   \n",
       "3  COQUE SEPTICO, INFECCION DE VIAS URINARIAS, HI...  GUSTAVO A MADERO   \n",
       "4  ACIDOSIS METABOLICA, CHOQUE SEPTICO, INFECCION...      AZCAPOTZALCO   \n",
       "\n",
       "  LugarMuerte  num_consecutivo  \n",
       "0    Hospital           420527  \n",
       "1    Hospital           420526  \n",
       "2   Domicilio           420525  \n",
       "3   Domicilio           420524  \n",
       "4    Hospital           420523  "
      ]
     },
     "execution_count": 2,
     "metadata": {},
     "output_type": "execute_result"
    }
   ],
   "source": [
    "def_df = pd.read_csv('Resources/defunciones_corte18abril.csv', parse_dates=['fec_defuncion'])\n",
    "def_df.rename(columns={'fec_defuncion':'Date'},inplace=True)\n",
    "def_df.head()"
   ]
  },
  {
   "cell_type": "code",
   "execution_count": 3,
   "metadata": {},
   "outputs": [
    {
     "name": "stdout",
     "output_type": "stream",
     "text": [
      "<class 'pandas.core.frame.DataFrame'>\n",
      "RangeIndex: 420527 entries, 0 to 420526\n",
      "Data columns (total 9 columns):\n",
      " #   Column           Non-Null Count   Dtype         \n",
      "---  ------           --------------   -----         \n",
      " 0   edad             420362 non-null  float64       \n",
      " 1   sexo             420527 non-null  object        \n",
      " 2   Date             420527 non-null  datetime64[ns]\n",
      " 3   estado           414125 non-null  object        \n",
      " 4   causa            420527 non-null  object        \n",
      " 5   causa_registro   190998 non-null  object        \n",
      " 6   alcaldia         277049 non-null  object        \n",
      " 7   LugarMuerte      168882 non-null  object        \n",
      " 8   num_consecutivo  420527 non-null  int64         \n",
      "dtypes: datetime64[ns](1), float64(1), int64(1), object(6)\n",
      "memory usage: 28.9+ MB\n"
     ]
    }
   ],
   "source": [
    "def_df.info()\n"
   ]
  },
  {
   "cell_type": "code",
   "execution_count": 4,
   "metadata": {},
   "outputs": [
    {
     "data": {
      "text/html": [
       "<div>\n",
       "<style scoped>\n",
       "    .dataframe tbody tr th:only-of-type {\n",
       "        vertical-align: middle;\n",
       "    }\n",
       "\n",
       "    .dataframe tbody tr th {\n",
       "        vertical-align: top;\n",
       "    }\n",
       "\n",
       "    .dataframe thead th {\n",
       "        text-align: right;\n",
       "    }\n",
       "</style>\n",
       "<table border=\"1\" class=\"dataframe\">\n",
       "  <thead>\n",
       "    <tr style=\"text-align: right;\">\n",
       "      <th></th>\n",
       "      <th>count</th>\n",
       "      <th>Percentage</th>\n",
       "    </tr>\n",
       "    <tr>\n",
       "      <th>sexo</th>\n",
       "      <th></th>\n",
       "      <th></th>\n",
       "    </tr>\n",
       "  </thead>\n",
       "  <tbody>\n",
       "    <tr>\n",
       "      <th>Hombre</th>\n",
       "      <td>231548</td>\n",
       "      <td>0.550614</td>\n",
       "    </tr>\n",
       "    <tr>\n",
       "      <th>Indefinido</th>\n",
       "      <td>128</td>\n",
       "      <td>0.000304</td>\n",
       "    </tr>\n",
       "    <tr>\n",
       "      <th>Mujer</th>\n",
       "      <td>188851</td>\n",
       "      <td>0.449082</td>\n",
       "    </tr>\n",
       "  </tbody>\n",
       "</table>\n",
       "</div>"
      ],
      "text/plain": [
       "             count  Percentage\n",
       "sexo                          \n",
       "Hombre      231548    0.550614\n",
       "Indefinido     128    0.000304\n",
       "Mujer       188851    0.449082"
      ]
     },
     "execution_count": 4,
     "metadata": {},
     "output_type": "execute_result"
    }
   ],
   "source": [
    "gender_grouped = def_df.groupby('sexo')\n",
    "gender_df =  pd.DataFrame(gender_grouped['Date'].count())\n",
    "gender_df.rename(columns={'Date':'count'},inplace=True)\n",
    "gender_df['Percentage'] = gender_df['count']/gender_df['count'].sum()\n",
    "gender_df.head()"
   ]
  },
  {
   "cell_type": "code",
   "execution_count": 5,
   "metadata": {},
   "outputs": [],
   "source": [
    "# Labels for the sections of our pie chart\n",
    "sexo = [\"Hombre\", \"Mujer\", \"Indefinido\"]\n",
    "    \n",
    "# The values of each section of the pie chart\n",
    "count = [231548,188851, 128] \n",
    "    \n",
    "# The colors of each section of the pie chart\n",
    "colors= [\"lightblue\", \"pink\", \"purple\"]\n",
    "    \n",
    "explode = (0, 0, 0)"
   ]
  },
  {
   "cell_type": "code",
   "execution_count": 6,
   "metadata": {},
   "outputs": [
    {
     "data": {
      "image/png": "[encoded data removed]",
      "text/plain": [
       "<Figure size 432x288 with 1 Axes>"
      ]
     },
     "metadata": {},
     "output_type": "display_data"
    }
   ],
   "source": [
    "# Tell matplotlib to create a pie chart based upon the above data\n",
    "plt.pie(count, explode=explode, labels=sexo,\n",
    "        autopct=\"%1.1f%%\")\n",
    "plt.axis(\"equal\")\n",
    "plt.show()"
   ]
  },
  {
   "cell_type": "code",
   "execution_count": null,
   "metadata": {},
   "outputs": [],
   "source": [
    "#Death by cause pie chart\n",
    "#OJO,MUY PESADO SE ACABA LA MEMORIA.\n",
    "def_df.groupby(\"causa_registro\").count()[\"Date\"].plot(kind=\"pie\")"
   ]
  },
  {
   "cell_type": "code",
   "execution_count": 3,
   "metadata": {
    "scrolled": true
   },
   "outputs": [
    {
     "ename": "NameError",
     "evalue": "name 'def_df' is not defined",
     "output_type": "error",
     "traceback": [
      "\u001b[0;31m---------------------------------------------------------------------------\u001b[0m",
      "\u001b[0;31mNameError\u001b[0m                                 Traceback (most recent call last)",
      "\u001b[0;32m<ipython-input-3-ea2d39fdb100>\u001b[0m in \u001b[0;36m<module>\u001b[0;34m\u001b[0m\n\u001b[0;32m----> 1\u001b[0;31m \u001b[0mdef_df\u001b[0m\u001b[0;34m[\u001b[0m\u001b[0;34m'Month'\u001b[0m\u001b[0;34m]\u001b[0m \u001b[0;34m=\u001b[0m \u001b[0mdef_df\u001b[0m\u001b[0;34m[\u001b[0m\u001b[0;34m'Date'\u001b[0m\u001b[0;34m]\u001b[0m\u001b[0;34m.\u001b[0m\u001b[0mdt\u001b[0m\u001b[0;34m.\u001b[0m\u001b[0mmonth\u001b[0m\u001b[0;34m\u001b[0m\u001b[0;34m\u001b[0m\u001b[0m\n\u001b[0m\u001b[1;32m      2\u001b[0m \u001b[0mdef_df\u001b[0m\u001b[0;34m[\u001b[0m\u001b[0;34m'Weekday'\u001b[0m\u001b[0;34m]\u001b[0m \u001b[0;34m=\u001b[0m \u001b[0mdef_df\u001b[0m\u001b[0;34m[\u001b[0m\u001b[0;34m'Date'\u001b[0m\u001b[0;34m]\u001b[0m\u001b[0;34m.\u001b[0m\u001b[0mdt\u001b[0m\u001b[0;34m.\u001b[0m\u001b[0mweekday\u001b[0m\u001b[0;34m\u001b[0m\u001b[0;34m\u001b[0m\u001b[0m\n\u001b[1;32m      3\u001b[0m \u001b[0mdef_df\u001b[0m\u001b[0;34m[\u001b[0m\u001b[0;34m'Day'\u001b[0m\u001b[0;34m]\u001b[0m \u001b[0;34m=\u001b[0m \u001b[0mdef_df\u001b[0m\u001b[0;34m[\u001b[0m\u001b[0;34m'Date'\u001b[0m\u001b[0;34m]\u001b[0m\u001b[0;34m.\u001b[0m\u001b[0mdt\u001b[0m\u001b[0;34m.\u001b[0m\u001b[0mdayofyear\u001b[0m\u001b[0;34m\u001b[0m\u001b[0;34m\u001b[0m\u001b[0m\n\u001b[1;32m      4\u001b[0m \u001b[0mdef_df\u001b[0m\u001b[0;34m[\u001b[0m\u001b[0;34m'Year'\u001b[0m\u001b[0;34m]\u001b[0m \u001b[0;34m=\u001b[0m \u001b[0mdef_df\u001b[0m\u001b[0;34m[\u001b[0m\u001b[0;34m'Date'\u001b[0m\u001b[0;34m]\u001b[0m\u001b[0;34m.\u001b[0m\u001b[0mdt\u001b[0m\u001b[0;34m.\u001b[0m\u001b[0myear\u001b[0m\u001b[0;34m\u001b[0m\u001b[0;34m\u001b[0m\u001b[0m\n\u001b[1;32m      5\u001b[0m \u001b[0mdef_df\u001b[0m\u001b[0;34m.\u001b[0m\u001b[0mhead\u001b[0m\u001b[0;34m(\u001b[0m\u001b[0;34m)\u001b[0m\u001b[0;34m\u001b[0m\u001b[0;34m\u001b[0m\u001b[0m\n",
      "\u001b[0;31mNameError\u001b[0m: name 'def_df' is not defined"
     ]
    }
   ],
   "source": [
    "def_df['Month'] = def_df['Date'].dt.month\n",
    "def_df['Weekday'] = def_df['Date'].dt.weekday\n",
    "def_df['Day'] = def_df['Date'].dt.dayofyear\n",
    "def_df['Year'] = def_df['Date'].dt.year\n",
    "def_df.head()"
   ]
  },
  {
   "cell_type": "code",
   "execution_count": 7,
   "metadata": {
    "scrolled": true
   },
   "outputs": [
    {
     "data": {
      "text/html": [
       "<div>\n",
       "<style scoped>\n",
       "    .dataframe tbody tr th:only-of-type {\n",
       "        vertical-align: middle;\n",
       "    }\n",
       "\n",
       "    .dataframe tbody tr th {\n",
       "        vertical-align: top;\n",
       "    }\n",
       "\n",
       "    .dataframe thead th {\n",
       "        text-align: right;\n",
       "    }\n",
       "</style>\n",
       "<table border=\"1\" class=\"dataframe\">\n",
       "  <thead>\n",
       "    <tr style=\"text-align: right;\">\n",
       "      <th></th>\n",
       "      <th>edad</th>\n",
       "      <th>sexo</th>\n",
       "      <th>Date</th>\n",
       "      <th>estado</th>\n",
       "      <th>causa</th>\n",
       "      <th>alcaldia</th>\n",
       "      <th>LugarMuerte</th>\n",
       "      <th>num_consecutivo</th>\n",
       "    </tr>\n",
       "    <tr>\n",
       "      <th>causa_registro</th>\n",
       "      <th></th>\n",
       "      <th></th>\n",
       "      <th></th>\n",
       "      <th></th>\n",
       "      <th></th>\n",
       "      <th></th>\n",
       "      <th></th>\n",
       "      <th></th>\n",
       "    </tr>\n",
       "  </thead>\n",
       "  <tbody>\n",
       "    <tr>\n",
       "      <th>,INFARTO AGUDO AL MIOCARDIO, INSUFICIENCIA CARDIACA CONGESTIVA, HIPERTENSION ARTERIAL SISTEMICA.</th>\n",
       "      <td>1</td>\n",
       "      <td>1</td>\n",
       "      <td>1</td>\n",
       "      <td>1</td>\n",
       "      <td>1</td>\n",
       "      <td>1</td>\n",
       "      <td>1</td>\n",
       "      <td>1</td>\n",
       "    </tr>\n",
       "    <tr>\n",
       "      <th>- CHOQUE SEPTICO -DIABETES MELLITUS INSULINO DEPENDIENTE -NEUMONIA NO ESPECIFICADA -COVID-19 CASO SOSPECHOSO</th>\n",
       "      <td>1</td>\n",
       "      <td>1</td>\n",
       "      <td>1</td>\n",
       "      <td>1</td>\n",
       "      <td>1</td>\n",
       "      <td>1</td>\n",
       "      <td>1</td>\n",
       "      <td>1</td>\n",
       "    </tr>\n",
       "    <tr>\n",
       "      <th>-CHOQUE CARDIOGENICO,INFARTO AGUDO AL MIOCARDIO,INSUFICIENCIA CARDIACA-</th>\n",
       "      <td>1</td>\n",
       "      <td>1</td>\n",
       "      <td>1</td>\n",
       "      <td>1</td>\n",
       "      <td>1</td>\n",
       "      <td>0</td>\n",
       "      <td>0</td>\n",
       "      <td>1</td>\n",
       "    </tr>\n",
       "    <tr>\n",
       "      <th>-CHOQUE SEPTICO -NEUMONIA ATIPICA -PROBABLE 2019-NCOV(COVID 19)</th>\n",
       "      <td>1</td>\n",
       "      <td>1</td>\n",
       "      <td>1</td>\n",
       "      <td>1</td>\n",
       "      <td>1</td>\n",
       "      <td>1</td>\n",
       "      <td>1</td>\n",
       "      <td>1</td>\n",
       "    </tr>\n",
       "    <tr>\n",
       "      <th>-DISFUNCION VENTRICULAR AGUDA -DIABETES MELLITUS TIPO 2 -HIPERTENSION ARTERIAL SISTEMICA</th>\n",
       "      <td>1</td>\n",
       "      <td>1</td>\n",
       "      <td>1</td>\n",
       "      <td>1</td>\n",
       "      <td>1</td>\n",
       "      <td>0</td>\n",
       "      <td>0</td>\n",
       "      <td>1</td>\n",
       "    </tr>\n",
       "    <tr>\n",
       "      <th>...</th>\n",
       "      <td>...</td>\n",
       "      <td>...</td>\n",
       "      <td>...</td>\n",
       "      <td>...</td>\n",
       "      <td>...</td>\n",
       "      <td>...</td>\n",
       "      <td>...</td>\n",
       "      <td>...</td>\n",
       "    </tr>\n",
       "    <tr>\n",
       "      <th>VIRUS INMUNODEFICIENCIA HUMANA,ANEMIA</th>\n",
       "      <td>1</td>\n",
       "      <td>1</td>\n",
       "      <td>1</td>\n",
       "      <td>1</td>\n",
       "      <td>1</td>\n",
       "      <td>0</td>\n",
       "      <td>0</td>\n",
       "      <td>1</td>\n",
       "    </tr>\n",
       "    <tr>\n",
       "      <th>VISCOSIDAD PLASMATICA ANORMAL, ARTRITIS REUMATOIDE CON COMPROMISO DE OTROS ORGANOS, HIPERTENSION ESENCIAL</th>\n",
       "      <td>1</td>\n",
       "      <td>1</td>\n",
       "      <td>1</td>\n",
       "      <td>1</td>\n",
       "      <td>1</td>\n",
       "      <td>0</td>\n",
       "      <td>1</td>\n",
       "      <td>1</td>\n",
       "    </tr>\n",
       "    <tr>\n",
       "      <th>VOLVULO GASTRICO COMPLICADO, HIPOTIROIDISMO, HIPERTENSION ARTERIAL.-</th>\n",
       "      <td>1</td>\n",
       "      <td>1</td>\n",
       "      <td>1</td>\n",
       "      <td>1</td>\n",
       "      <td>1</td>\n",
       "      <td>0</td>\n",
       "      <td>1</td>\n",
       "      <td>1</td>\n",
       "    </tr>\n",
       "    <tr>\n",
       "      <th>VOLVULO INTESTINAL, EVENTO VASCULAR CEREBRAL ISQUEMICO, HIPERTENSION ARTERIAL SISTEMICA</th>\n",
       "      <td>1</td>\n",
       "      <td>1</td>\n",
       "      <td>1</td>\n",
       "      <td>1</td>\n",
       "      <td>1</td>\n",
       "      <td>1</td>\n",
       "      <td>1</td>\n",
       "      <td>1</td>\n",
       "    </tr>\n",
       "    <tr>\n",
       "      <th>insuficiencia respiratoria aguda, neumonia atipica, covi 19.</th>\n",
       "      <td>1</td>\n",
       "      <td>1</td>\n",
       "      <td>1</td>\n",
       "      <td>1</td>\n",
       "      <td>1</td>\n",
       "      <td>1</td>\n",
       "      <td>0</td>\n",
       "      <td>1</td>\n",
       "    </tr>\n",
       "  </tbody>\n",
       "</table>\n",
       "<p>122825 rows × 8 columns</p>\n",
       "</div>"
      ],
      "text/plain": [
       "                                                    edad  sexo  Date  estado  \\\n",
       "causa_registro                                                                 \n",
       ",INFARTO AGUDO AL MIOCARDIO, INSUFICIENCIA CARD...     1     1     1       1   \n",
       "- CHOQUE SEPTICO -DIABETES MELLITUS INSULINO DE...     1     1     1       1   \n",
       "-CHOQUE CARDIOGENICO,INFARTO AGUDO AL MIOCARDIO...     1     1     1       1   \n",
       "-CHOQUE SEPTICO -NEUMONIA ATIPICA -PROBABLE 201...     1     1     1       1   \n",
       "-DISFUNCION VENTRICULAR AGUDA -DIABETES MELLITU...     1     1     1       1   \n",
       "...                                                  ...   ...   ...     ...   \n",
       "VIRUS INMUNODEFICIENCIA HUMANA,ANEMIA                  1     1     1       1   \n",
       "VISCOSIDAD PLASMATICA ANORMAL, ARTRITIS REUMATO...     1     1     1       1   \n",
       "VOLVULO GASTRICO COMPLICADO, HIPOTIROIDISMO, HI...     1     1     1       1   \n",
       "VOLVULO INTESTINAL, EVENTO VASCULAR CEREBRAL IS...     1     1     1       1   \n",
       "insuficiencia respiratoria aguda, neumonia atip...     1     1     1       1   \n",
       "\n",
       "                                                    causa  alcaldia  \\\n",
       "causa_registro                                                        \n",
       ",INFARTO AGUDO AL MIOCARDIO, INSUFICIENCIA CARD...      1         1   \n",
       "- CHOQUE SEPTICO -DIABETES MELLITUS INSULINO DE...      1         1   \n",
       "-CHOQUE CARDIOGENICO,INFARTO AGUDO AL MIOCARDIO...      1         0   \n",
       "-CHOQUE SEPTICO -NEUMONIA ATIPICA -PROBABLE 201...      1         1   \n",
       "-DISFUNCION VENTRICULAR AGUDA -DIABETES MELLITU...      1         0   \n",
       "...                                                   ...       ...   \n",
       "VIRUS INMUNODEFICIENCIA HUMANA,ANEMIA                   1         0   \n",
       "VISCOSIDAD PLASMATICA ANORMAL, ARTRITIS REUMATO...      1         0   \n",
       "VOLVULO GASTRICO COMPLICADO, HIPOTIROIDISMO, HI...      1         0   \n",
       "VOLVULO INTESTINAL, EVENTO VASCULAR CEREBRAL IS...      1         1   \n",
       "insuficiencia respiratoria aguda, neumonia atip...      1         1   \n",
       "\n",
       "                                                    LugarMuerte  \\\n",
       "causa_registro                                                    \n",
       ",INFARTO AGUDO AL MIOCARDIO, INSUFICIENCIA CARD...            1   \n",
       "- CHOQUE SEPTICO -DIABETES MELLITUS INSULINO DE...            1   \n",
       "-CHOQUE CARDIOGENICO,INFARTO AGUDO AL MIOCARDIO...            0   \n",
       "-CHOQUE SEPTICO -NEUMONIA ATIPICA -PROBABLE 201...            1   \n",
       "-DISFUNCION VENTRICULAR AGUDA -DIABETES MELLITU...            0   \n",
       "...                                                         ...   \n",
       "VIRUS INMUNODEFICIENCIA HUMANA,ANEMIA                         0   \n",
       "VISCOSIDAD PLASMATICA ANORMAL, ARTRITIS REUMATO...            1   \n",
       "VOLVULO GASTRICO COMPLICADO, HIPOTIROIDISMO, HI...            1   \n",
       "VOLVULO INTESTINAL, EVENTO VASCULAR CEREBRAL IS...            1   \n",
       "insuficiencia respiratoria aguda, neumonia atip...            0   \n",
       "\n",
       "                                                    num_consecutivo  \n",
       "causa_registro                                                       \n",
       ",INFARTO AGUDO AL MIOCARDIO, INSUFICIENCIA CARD...                1  \n",
       "- CHOQUE SEPTICO -DIABETES MELLITUS INSULINO DE...                1  \n",
       "-CHOQUE CARDIOGENICO,INFARTO AGUDO AL MIOCARDIO...                1  \n",
       "-CHOQUE SEPTICO -NEUMONIA ATIPICA -PROBABLE 201...                1  \n",
       "-DISFUNCION VENTRICULAR AGUDA -DIABETES MELLITU...                1  \n",
       "...                                                             ...  \n",
       "VIRUS INMUNODEFICIENCIA HUMANA,ANEMIA                             1  \n",
       "VISCOSIDAD PLASMATICA ANORMAL, ARTRITIS REUMATO...                1  \n",
       "VOLVULO GASTRICO COMPLICADO, HIPOTIROIDISMO, HI...                1  \n",
       "VOLVULO INTESTINAL, EVENTO VASCULAR CEREBRAL IS...                1  \n",
       "insuficiencia respiratoria aguda, neumonia atip...                1  \n",
       "\n",
       "[122825 rows x 8 columns]"
      ]
     },
     "execution_count": 7,
     "metadata": {},
     "output_type": "execute_result"
    }
   ],
   "source": [
    "def_df.groupby(\"causa_registro\").count()"
   ]
  },
  {
   "cell_type": "code",
   "execution_count": 1,
   "metadata": {
    "scrolled": true
   },
   "outputs": [
    {
     "ename": "NameError",
     "evalue": "name 'def_df' is not defined",
     "output_type": "error",
     "traceback": [
      "\u001b[0;31m---------------------------------------------------------------------------\u001b[0m",
      "\u001b[0;31mNameError\u001b[0m                                 Traceback (most recent call last)",
      "\u001b[0;32m<ipython-input-1-313f27cefd7a>\u001b[0m in \u001b[0;36m<module>\u001b[0;34m\u001b[0m\n\u001b[0;32m----> 1\u001b[0;31m \u001b[0mdef_df\u001b[0m\u001b[0;34m.\u001b[0m\u001b[0mgroupby\u001b[0m\u001b[0;34m(\u001b[0m\u001b[0;34m\"causa_registro\"\u001b[0m\u001b[0;34m)\u001b[0m\u001b[0;34m.\u001b[0m\u001b[0mcount\u001b[0m\u001b[0;34m(\u001b[0m\u001b[0;34m)\u001b[0m\u001b[0;34m\u001b[0m\u001b[0;34m\u001b[0m\u001b[0m\n\u001b[0m\u001b[1;32m      2\u001b[0m \u001b[0mdef_df\u001b[0m\u001b[0;34m[\u001b[0m\u001b[0;34m\"causa_registro\"\u001b[0m\u001b[0;34m]\u001b[0m\u001b[0;34m.\u001b[0m\u001b[0mstr\u001b[0m\u001b[0;34m.\u001b[0m\u001b[0msplit\u001b[0m\u001b[0;34m(\u001b[0m\u001b[0;34m\",\"\u001b[0m\u001b[0;34m)\u001b[0m\u001b[0;34m\u001b[0m\u001b[0;34m\u001b[0m\u001b[0m\n",
      "\u001b[0;31mNameError\u001b[0m: name 'def_df' is not defined"
     ]
    }
   ],
   "source": [
    "def_df.groupby(\"causa_registro\").count()\n",
    "def_df[\"causa_registro\"].str.split(\",\")"
   ]
  },
  {
   "cell_type": "code",
   "execution_count": 2,
   "metadata": {},
   "outputs": [
    {
     "ename": "NameError",
     "evalue": "name 'def_df' is not defined",
     "output_type": "error",
     "traceback": [
      "\u001b[0;31m---------------------------------------------------------------------------\u001b[0m",
      "\u001b[0;31mNameError\u001b[0m                                 Traceback (most recent call last)",
      "\u001b[0;32m<ipython-input-2-6dfa1754937d>\u001b[0m in \u001b[0;36m<module>\u001b[0;34m\u001b[0m\n\u001b[0;32m----> 1\u001b[0;31m \u001b[0mmonth_grouped\u001b[0m \u001b[0;34m=\u001b[0m \u001b[0mdef_df\u001b[0m\u001b[0;34m.\u001b[0m\u001b[0mgroupby\u001b[0m\u001b[0;34m(\u001b[0m\u001b[0;34m[\u001b[0m\u001b[0;34m'Year'\u001b[0m\u001b[0;34m,\u001b[0m\u001b[0;34m'Day'\u001b[0m\u001b[0;34m]\u001b[0m\u001b[0;34m)\u001b[0m\u001b[0;34m.\u001b[0m\u001b[0mcount\u001b[0m\u001b[0;34m(\u001b[0m\u001b[0;34m)\u001b[0m\u001b[0;34m.\u001b[0m\u001b[0mreset_index\u001b[0m\u001b[0;34m(\u001b[0m\u001b[0;34m)\u001b[0m\u001b[0;34m.\u001b[0m\u001b[0mset_index\u001b[0m\u001b[0;34m(\u001b[0m\u001b[0;34m'Year'\u001b[0m\u001b[0;34m)\u001b[0m\u001b[0;34m\u001b[0m\u001b[0;34m\u001b[0m\u001b[0m\n\u001b[0m\u001b[1;32m      2\u001b[0m \u001b[0;34m\u001b[0m\u001b[0m\n\u001b[1;32m      3\u001b[0m \u001b[0;32mfor\u001b[0m \u001b[0mindex\u001b[0m \u001b[0;32min\u001b[0m \u001b[0mmonth_grouped\u001b[0m\u001b[0;34m.\u001b[0m\u001b[0mindex\u001b[0m\u001b[0;34m.\u001b[0m\u001b[0munique\u001b[0m\u001b[0;34m(\u001b[0m\u001b[0;34m)\u001b[0m\u001b[0;34m:\u001b[0m\u001b[0;34m\u001b[0m\u001b[0;34m\u001b[0m\u001b[0m\n\u001b[1;32m      4\u001b[0m     \u001b[0mtemp\u001b[0m \u001b[0;34m=\u001b[0m \u001b[0mmonth_grouped\u001b[0m\u001b[0;34m[\u001b[0m\u001b[0;34m[\u001b[0m\u001b[0;34m'Date'\u001b[0m\u001b[0;34m,\u001b[0m\u001b[0;34m'Day'\u001b[0m\u001b[0;34m]\u001b[0m\u001b[0;34m]\u001b[0m\u001b[0;34m.\u001b[0m\u001b[0mloc\u001b[0m\u001b[0;34m[\u001b[0m\u001b[0mindex\u001b[0m\u001b[0;34m]\u001b[0m\u001b[0;34m\u001b[0m\u001b[0;34m\u001b[0m\u001b[0m\n\u001b[1;32m      5\u001b[0m     \u001b[0mplt\u001b[0m\u001b[0;34m.\u001b[0m\u001b[0mplot\u001b[0m\u001b[0;34m(\u001b[0m\u001b[0mtemp\u001b[0m\u001b[0;34m[\u001b[0m\u001b[0;34m'Day'\u001b[0m\u001b[0;34m]\u001b[0m\u001b[0;34m,\u001b[0m\u001b[0mtemp\u001b[0m\u001b[0;34m[\u001b[0m\u001b[0;34m'Date'\u001b[0m\u001b[0;34m]\u001b[0m\u001b[0;34m,\u001b[0m\u001b[0mlabel\u001b[0m \u001b[0;34m=\u001b[0m \u001b[0mindex\u001b[0m\u001b[0;34m)\u001b[0m\u001b[0;34m\u001b[0m\u001b[0;34m\u001b[0m\u001b[0m\n",
      "\u001b[0;31mNameError\u001b[0m: name 'def_df' is not defined"
     ]
    }
   ],
   "source": [
    "month_grouped = def_df.groupby(['Year','Day']).count().reset_index().set_index('Year')\n",
    "\n",
    "for index in month_grouped.index.unique():\n",
    "    temp = month_grouped[['Date','Day']].loc[index]\n",
    "    plt.plot(temp['Day'],temp['Date'],label = index)\n",
    "plt.legend()\n",
    "plt.savefig('Images/dethsByYear.png', bbox_inches='tight')\n"
   ]
  },
  {
   "cell_type": "code",
   "execution_count": 4,
   "metadata": {},
   "outputs": [
    {
     "ename": "NameError",
     "evalue": "name 'def_df' is not defined",
     "output_type": "error",
     "traceback": [
      "\u001b[0;31m---------------------------------------------------------------------------\u001b[0m",
      "\u001b[0;31mNameError\u001b[0m                                 Traceback (most recent call last)",
      "\u001b[0;32m<ipython-input-4-25a6eba01945>\u001b[0m in \u001b[0;36m<module>\u001b[0;34m\u001b[0m\n\u001b[0;32m----> 1\u001b[0;31m \u001b[0mdef_df\u001b[0m\u001b[0;34m.\u001b[0m\u001b[0mgroupby\u001b[0m\u001b[0;34m(\u001b[0m\u001b[0;34m\"causa_registro\"\u001b[0m\u001b[0;34m)\u001b[0m\u001b[0;34m.\u001b[0m\u001b[0mcount\u001b[0m\u001b[0;34m(\u001b[0m\u001b[0;34m)\u001b[0m\u001b[0;34m[\u001b[0m\u001b[0;34m\"Date\"\u001b[0m\u001b[0;34m]\u001b[0m\u001b[0;34m\u001b[0m\u001b[0;34m\u001b[0m\u001b[0m\n\u001b[0m",
      "\u001b[0;31mNameError\u001b[0m: name 'def_df' is not defined"
     ]
    }
   ],
   "source": [
    "def_df.groupby(\"causa_registro\").count()[\"Date\"]"
   ]
  },
  {
   "cell_type": "code",
   "execution_count": null,
   "metadata": {},
   "outputs": [],
   "source": []
  },
  {
   "cell_type": "code",
   "execution_count": null,
   "metadata": {},
   "outputs": [],
   "source": []
  }
 ],
 "metadata": {
  "kernelspec": {
   "display_name": "Python 3",
   "language": "python",
   "name": "python3"
  },
  "language_info": {
   "codemirror_mode": {
    "name": "ipython",
    "version": 3
   },
   "file_extension": ".py",
   "mimetype": "text/x-python",
   "name": "python",
   "nbconvert_exporter": "python",
   "pygments_lexer": "ipython3",
   "version": "3.6.10"
  },
  "metadata": {
   "interpreter": {
    "hash": "61529b0e42c65a07dd7a7dc36cbcbb4d709937b08d53f6b746cb482600fcbeb7"
   }
  }
 },
 "nbformat": 4,
 "nbformat_minor": 2
}
