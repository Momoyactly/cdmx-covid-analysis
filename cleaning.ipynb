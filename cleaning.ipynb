{
 "metadata": {
  "language_info": {
   "codemirror_mode": {
    "name": "ipython",
    "version": 3
   },
   "file_extension": ".py",
   "mimetype": "text/x-python",
   "name": "python",
   "nbconvert_exporter": "python",
   "pygments_lexer": "ipython3",
   "version": "3.8.5"
  },
  "orig_nbformat": 2,
  "kernelspec": {
   "name": "python385jvsc74a57bd061529b0e42c65a07dd7a7dc36cbcbb4d709937b08d53f6b746cb482600fcbeb7",
   "display_name": "Python 3.8.5 64-bit ('cdmx-covid-analysis-OOKfBqux': venv)"
  },
  "metadata": {
   "interpreter": {
    "hash": "61529b0e42c65a07dd7a7dc36cbcbb4d709937b08d53f6b746cb482600fcbeb7"
   }
  }
 },
 "nbformat": 4,
 "nbformat_minor": 2,
 "cells": [
  {
   "cell_type": "code",
   "execution_count": 1,
   "metadata": {},
   "outputs": [],
   "source": [
    "import pandas as pd"
   ]
  },
  {
   "cell_type": "code",
   "execution_count": 3,
   "metadata": {},
   "outputs": [
    {
     "output_type": "stream",
     "name": "stderr",
     "text": [
      "/home/uriel/.local/share/virtualenvs/cdmx-covid-analysis-OOKfBqux/lib/python3.8/site-packages/IPython/core/interactiveshell.py:3165: DtypeWarning: Columns (5,7) have mixed types.Specify dtype option on import or set low_memory=False.\n  has_raised = await self.run_ast_nodes(code_ast.body, cell_name,\n"
     ]
    },
    {
     "output_type": "execute_result",
     "data": {
      "text/plain": [
       "   edad    sexo fec_defuncion            estado  \\\n",
       "0  48.0  Hombre    2021-04-10  CIUDAD DE MEXICO   \n",
       "1  67.0  Hombre    2021-04-10  CIUDAD DE MEXICO   \n",
       "2  49.0   Mujer    2021-04-10  CIUDAD DE MEXICO   \n",
       "3  76.0   Mujer    2021-04-10  CIUDAD DE MEXICO   \n",
       "4  82.0   Mujer    2021-04-10  CIUDAD DE MEXICO   \n",
       "\n",
       "                            causa  \\\n",
       "0                            Otra   \n",
       "1  Covid-19 Confirmado o Sospecha   \n",
       "2                            Otra   \n",
       "3                            Otra   \n",
       "4                            Otra   \n",
       "\n",
       "                                      causa_registro          alcaldia  \\\n",
       "0  CHOQUE SEPTICO, NEUMONIA ATIPICA, SINDROME DE ...    MIGUEL HIDALGO   \n",
       "1  CHOQUE SEPTICO, NEUMONIA ATIPICA POR PROBABLE ...  GUSTAVO A MADERO   \n",
       "2  INFARTO AGUDO AL MIOCARDIO, TROMBOSIS VENOSA P...        IZTAPALAPA   \n",
       "3  COQUE SEPTICO, INFECCION DE VIAS URINARIAS, HI...  GUSTAVO A MADERO   \n",
       "4  ACIDOSIS METABOLICA, CHOQUE SEPTICO, INFECCION...      AZCAPOTZALCO   \n",
       "\n",
       "  LugarMuerte  num_consecutivo  \n",
       "0    Hospital           420527  \n",
       "1    Hospital           420526  \n",
       "2   Domicilio           420525  \n",
       "3   Domicilio           420524  \n",
       "4    Hospital           420523  "
      ],
      "text/html": "<div>\n<style scoped>\n    .dataframe tbody tr th:only-of-type {\n        vertical-align: middle;\n    }\n\n    .dataframe tbody tr th {\n        vertical-align: top;\n    }\n\n    .dataframe thead th {\n        text-align: right;\n    }\n</style>\n<table border=\"1\" class=\"dataframe\">\n  <thead>\n    <tr style=\"text-align: right;\">\n      <th></th>\n      <th>edad</th>\n      <th>sexo</th>\n      <th>fec_defuncion</th>\n      <th>estado</th>\n      <th>causa</th>\n      <th>causa_registro</th>\n      <th>alcaldia</th>\n      <th>LugarMuerte</th>\n      <th>num_consecutivo</th>\n    </tr>\n  </thead>\n  <tbody>\n    <tr>\n      <th>0</th>\n      <td>48.0</td>\n      <td>Hombre</td>\n      <td>2021-04-10</td>\n      <td>CIUDAD DE MEXICO</td>\n      <td>Otra</td>\n      <td>CHOQUE SEPTICO, NEUMONIA ATIPICA, SINDROME DE ...</td>\n      <td>MIGUEL HIDALGO</td>\n      <td>Hospital</td>\n      <td>420527</td>\n    </tr>\n    <tr>\n      <th>1</th>\n      <td>67.0</td>\n      <td>Hombre</td>\n      <td>2021-04-10</td>\n      <td>CIUDAD DE MEXICO</td>\n      <td>Covid-19 Confirmado o Sospecha</td>\n      <td>CHOQUE SEPTICO, NEUMONIA ATIPICA POR PROBABLE ...</td>\n      <td>GUSTAVO A MADERO</td>\n      <td>Hospital</td>\n      <td>420526</td>\n    </tr>\n    <tr>\n      <th>2</th>\n      <td>49.0</td>\n      <td>Mujer</td>\n      <td>2021-04-10</td>\n      <td>CIUDAD DE MEXICO</td>\n      <td>Otra</td>\n      <td>INFARTO AGUDO AL MIOCARDIO, TROMBOSIS VENOSA P...</td>\n      <td>IZTAPALAPA</td>\n      <td>Domicilio</td>\n      <td>420525</td>\n    </tr>\n    <tr>\n      <th>3</th>\n      <td>76.0</td>\n      <td>Mujer</td>\n      <td>2021-04-10</td>\n      <td>CIUDAD DE MEXICO</td>\n      <td>Otra</td>\n      <td>COQUE SEPTICO, INFECCION DE VIAS URINARIAS, HI...</td>\n      <td>GUSTAVO A MADERO</td>\n      <td>Domicilio</td>\n      <td>420524</td>\n    </tr>\n    <tr>\n      <th>4</th>\n      <td>82.0</td>\n      <td>Mujer</td>\n      <td>2021-04-10</td>\n      <td>CIUDAD DE MEXICO</td>\n      <td>Otra</td>\n      <td>ACIDOSIS METABOLICA, CHOQUE SEPTICO, INFECCION...</td>\n      <td>AZCAPOTZALCO</td>\n      <td>Hospital</td>\n      <td>420523</td>\n    </tr>\n  </tbody>\n</table>\n</div>"
     },
     "metadata": {},
     "execution_count": 3
    }
   ],
   "source": [
    "defunciones_df = pd.read_csv('Resources/defunciones_corte18abril.csv')\n",
    "defunciones_df.head()"
   ]
  },
  {
   "cell_type": "code",
   "execution_count": 10,
   "metadata": {},
   "outputs": [
    {
     "output_type": "execute_result",
     "data": {
      "text/plain": [
       "                                  edad    sexo  fec_defuncion  estado  \\\n",
       "causa                                                                   \n",
       "Covid-19 Confirmado o Sospecha   69675   69688          69688   69342   \n",
       "Otra                            350687  350839         350839  344783   \n",
       "\n",
       "                                causa_registro  alcaldia  LugarMuerte  \\\n",
       "causa                                                                   \n",
       "Covid-19 Confirmado o Sospecha           69688     49953        67050   \n",
       "Otra                                    121310    227096       101832   \n",
       "\n",
       "                                num_consecutivo  \n",
       "causa                                            \n",
       "Covid-19 Confirmado o Sospecha            69688  \n",
       "Otra                                     350839  "
      ],
      "text/html": "<div>\n<style scoped>\n    .dataframe tbody tr th:only-of-type {\n        vertical-align: middle;\n    }\n\n    .dataframe tbody tr th {\n        vertical-align: top;\n    }\n\n    .dataframe thead th {\n        text-align: right;\n    }\n</style>\n<table border=\"1\" class=\"dataframe\">\n  <thead>\n    <tr style=\"text-align: right;\">\n      <th></th>\n      <th>edad</th>\n      <th>sexo</th>\n      <th>fec_defuncion</th>\n      <th>estado</th>\n      <th>causa_registro</th>\n      <th>alcaldia</th>\n      <th>LugarMuerte</th>\n      <th>num_consecutivo</th>\n    </tr>\n    <tr>\n      <th>causa</th>\n      <th></th>\n      <th></th>\n      <th></th>\n      <th></th>\n      <th></th>\n      <th></th>\n      <th></th>\n      <th></th>\n    </tr>\n  </thead>\n  <tbody>\n    <tr>\n      <th>Covid-19 Confirmado o Sospecha</th>\n      <td>69675</td>\n      <td>69688</td>\n      <td>69688</td>\n      <td>69342</td>\n      <td>69688</td>\n      <td>49953</td>\n      <td>67050</td>\n      <td>69688</td>\n    </tr>\n    <tr>\n      <th>Otra</th>\n      <td>350687</td>\n      <td>350839</td>\n      <td>350839</td>\n      <td>344783</td>\n      <td>121310</td>\n      <td>227096</td>\n      <td>101832</td>\n      <td>350839</td>\n    </tr>\n  </tbody>\n</table>\n</div>"
     },
     "metadata": {},
     "execution_count": 10
    }
   ],
   "source": [
    "defunciones_df.groupby('causa').count()"
   ]
  },
  {
   "cell_type": "code",
   "execution_count": null,
   "metadata": {},
   "outputs": [],
   "source": []
  }
 ]
}